{
 "cells": [
  {
   "cell_type": "markdown",
   "metadata": {},
   "source": [
    "## OpenVINO optimizations for Question answering (QA) task\n"
   ]
  },
  {
   "cell_type": "markdown",
   "metadata": {},
   "source": [
    "## Import the packages needed for successful execution"
   ]
  },
  {
   "cell_type": "code",
   "execution_count": null,
   "metadata": {},
   "outputs": [],
   "source": [
    "from transformers import pipeline\n",
    "from datasets import load_dataset, load_metric\n",
    "from optimum.intel.openvino import OVAutoModelForQuestionAnswering\n",
    "\n",
    "from tqdm import tqdm\n",
    "\n",
    "from pathlib import Path\n",
    "\n",
    "# Required for OpenVINO conversion\n",
    "output_dir = Path(\"ov_optimized_model\")\n",
    "base_model_name = \"ov_model\"\n",
    "output_dir.mkdir(exist_ok=True)\n",
    "\n",
    "# Paths where OpenVINO IR models will be stored\n",
    "fp32_model_path = Path(output_dir / base_model_name).with_suffix(\".xml\")\n",
    "\n",
    "seq_len = 256"
   ]
  },
  {
   "cell_type": "markdown",
   "metadata": {},
   "source": [
    "### Instructions on conversion to OpenVINO\n",
    "We will use the OpenVINO™ Integration with Optimum module to convert the PyTorch Question answering pre-trained model to an OpenVINO model object. <br>\n",
    "We will then use Huggingface datasets and metric to evaluate the converted model."
   ]
  },
  {
   "cell_type": "code",
   "execution_count": null,
   "metadata": {},
   "outputs": [],
   "source": [
    "model = 'bert-large-uncased-whole-word-masking-finetuned-squad'\n",
    "ov_model = OVAutoModelForQuestionAnswering.from_pretrained('bert-large-uncased-whole-word-masking-finetuned-squad', from_pt=True)\n",
    "qa_pipeline = pipeline(\"question-answering\", model=ov_model, tokenizer='bert-large-uncased-whole-word-masking-finetuned-squad')\n",
    "dataset = load_dataset(\"squad\", split=\"validation\")\n",
    "metric = load_metric('squad')\n",
    "\n",
    "for idx, batch in enumerate(tqdm(dataset, desc=\"Looping over validation data\")):\n",
    "    input_context = batch['context']\n",
    "    input_questions = batch['question']\n",
    "    references = batch['answers']\n",
    "    preds = qa_pipeline(question=batch['question'], context=batch['context'])\n",
    "    \n",
    "    predictions = [{'prediction_text': preds['answer'], 'id': batch['id']}]\n",
    "    references = [{'answers': batch['answers'], 'id': batch['id']}]\n",
    "    metric.add_batch(predictions=predictions, references=references)\n",
    "\n",
    "score = metric.compute()\n",
    "print(f'Score for squad dataset: {score}')"
   ]
  },
  {
   "cell_type": "markdown",
   "metadata": {},
   "source": [
    "### Save the converted model intermediate representation (IRs) for runtime performance evaluation"
   ]
  },
  {
   "cell_type": "code",
   "execution_count": null,
   "metadata": {},
   "outputs": [],
   "source": [
    "ov_model.save_pretrained(output_dir)"
   ]
  },
  {
   "cell_type": "markdown",
   "metadata": {},
   "source": [
    "### Benchmark the converted model using the benchmark app\n",
    "The OpenVINO toolkit provides a benchmarking application to gauge the platform specific runtime performance that can be obtained under optimal configuration parameters for a given model. For more details refer to: https://docs.openvino.ai/latest/openvino_inference_engine_tools_benchmark_tool_README.html"
   ]
  },
  {
   "cell_type": "code",
   "execution_count": null,
   "metadata": {},
   "outputs": [],
   "source": [
    "print('Benchmark OpenVINO model using the benchmark app')\n",
    "! benchmark_app -m \"$fp32_model_path\" -d CPU -api async -t 10 -data_shape [1,\"$seq_len\"]"
   ]
  }
 ],
 "metadata": {
  "interpreter": {
   "hash": "df566dcc4c5b1682ff7f8cac067c9708d466bc61ce2aab7fdbcbee66fe8f7d1d"
  },
  "kernelspec": {
   "display_name": "Python 3.8.13 ('hftune')",
   "language": "python",
   "name": "python3"
  },
  "language_info": {
   "codemirror_mode": {
    "name": "ipython",
    "version": 3
   },
   "file_extension": ".py",
   "mimetype": "text/x-python",
   "name": "python",
   "nbconvert_exporter": "python",
   "pygments_lexer": "ipython3",
   "version": "3.8.13"
  },
  "orig_nbformat": 4
 },
 "nbformat": 4,
 "nbformat_minor": 2
}
