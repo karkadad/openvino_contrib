{
 "cells": [
  {
   "cell_type": "markdown",
   "metadata": {},
   "source": [
    "## OpenVINO optimizations for Text classification task\n"
   ]
  },
  {
   "cell_type": "code",
   "execution_count": 29,
   "metadata": {},
   "outputs": [
    {
     "name": "stdout",
     "output_type": "stream",
     "text": [
      "<odict_iterator object at 0x7fc3181a24a0>\n",
      "<odict_iterator object at 0x7fc3181a24a0>\n",
      "huggingface/tokenizers: The current process just got forked, after parallelism has already been used. Disabling parallelism to avoid deadlocks...\n",
      "To disable this warning, you can either:\n",
      "\t- Avoid using `tokenizers` before the fork if possible\n",
      "\t- Explicitly set the environment variable TOKENIZERS_PARALLELISM=(true | false)\n",
      "Requirement already satisfied: openvino-optimum in /home/dkarkada/miniconda3/envs/optimumtests/lib/python3.8/site-packages (0.0.3.dev0)\n",
      "Requirement already satisfied: transformers in /home/dkarkada/miniconda3/envs/optimumtests/lib/python3.8/site-packages (from openvino-optimum) (4.19.2)\n",
      "Requirement already satisfied: openvino in /home/dkarkada/miniconda3/envs/optimumtests/lib/python3.8/site-packages (from openvino-optimum) (2022.1.0)\n",
      "Requirement already satisfied: numpy<1.20,>=1.16.6 in /home/dkarkada/miniconda3/envs/optimumtests/lib/python3.8/site-packages (from openvino->openvino-optimum) (1.19.5)\n",
      "Requirement already satisfied: requests in /home/dkarkada/miniconda3/envs/optimumtests/lib/python3.8/site-packages (from transformers->openvino-optimum) (2.27.1)\n",
      "Requirement already satisfied: tokenizers!=0.11.3,<0.13,>=0.11.1 in /home/dkarkada/miniconda3/envs/optimumtests/lib/python3.8/site-packages (from transformers->openvino-optimum) (0.12.1)\n",
      "Requirement already satisfied: packaging>=20.0 in /home/dkarkada/miniconda3/envs/optimumtests/lib/python3.8/site-packages (from transformers->openvino-optimum) (21.3)\n",
      "Requirement already satisfied: regex!=2019.12.17 in /home/dkarkada/miniconda3/envs/optimumtests/lib/python3.8/site-packages (from transformers->openvino-optimum) (2022.6.2)\n",
      "Requirement already satisfied: filelock in /home/dkarkada/miniconda3/envs/optimumtests/lib/python3.8/site-packages (from transformers->openvino-optimum) (3.7.1)\n",
      "Requirement already satisfied: tqdm>=4.27 in /home/dkarkada/miniconda3/envs/optimumtests/lib/python3.8/site-packages (from transformers->openvino-optimum) (4.64.0)\n",
      "Requirement already satisfied: pyyaml>=5.1 in /home/dkarkada/miniconda3/envs/optimumtests/lib/python3.8/site-packages (from transformers->openvino-optimum) (6.0)\n",
      "Requirement already satisfied: huggingface-hub<1.0,>=0.1.0 in /home/dkarkada/miniconda3/envs/optimumtests/lib/python3.8/site-packages (from transformers->openvino-optimum) (0.7.0)\n",
      "Requirement already satisfied: typing-extensions>=3.7.4.3 in /home/dkarkada/miniconda3/envs/optimumtests/lib/python3.8/site-packages (from huggingface-hub<1.0,>=0.1.0->transformers->openvino-optimum) (4.2.0)\n",
      "Requirement already satisfied: pyparsing!=3.0.5,>=2.0.2 in /home/dkarkada/miniconda3/envs/optimumtests/lib/python3.8/site-packages (from packaging>=20.0->transformers->openvino-optimum) (3.0.9)\n",
      "Requirement already satisfied: idna<4,>=2.5 in /home/dkarkada/miniconda3/envs/optimumtests/lib/python3.8/site-packages (from requests->transformers->openvino-optimum) (3.3)\n",
      "Requirement already satisfied: urllib3<1.27,>=1.21.1 in /home/dkarkada/miniconda3/envs/optimumtests/lib/python3.8/site-packages (from requests->transformers->openvino-optimum) (1.26.9)\n",
      "Requirement already satisfied: charset-normalizer~=2.0.0 in /home/dkarkada/miniconda3/envs/optimumtests/lib/python3.8/site-packages (from requests->transformers->openvino-optimum) (2.0.12)\n",
      "Requirement already satisfied: certifi>=2017.4.17 in /home/dkarkada/miniconda3/envs/optimumtests/lib/python3.8/site-packages (from requests->transformers->openvino-optimum) (2022.5.18.1)\n"
     ]
    }
   ],
   "source": [
    "# Install openvino-optimum if not installed already\n",
    "! pip install openvino-optimum"
   ]
  },
  {
   "cell_type": "markdown",
   "metadata": {},
   "source": [
    "## Import the packages needed for successful execution"
   ]
  },
  {
   "cell_type": "code",
   "execution_count": 30,
   "metadata": {},
   "outputs": [
    {
     "name": "stdout",
     "output_type": "stream",
     "text": [
      "<odict_iterator object at 0x7fc3181a2540>\n",
      "<odict_iterator object at 0x7fc3181a2540>\n"
     ]
    }
   ],
   "source": [
    "from transformers import AutoConfig, AutoTokenizer\n",
    "from optimum.intel.openvino import OVAutoModelWithLMHead"
   ]
  },
  {
   "cell_type": "markdown",
   "metadata": {},
   "source": [
    "### Instructions on conversion to OpenVINO\n",
    "We will use the OpenVINO™ Integration with Optimum module to convert the BERT-Base, Multilingual Uncased model to an OpenVINO model object. <br>"
   ]
  },
  {
   "cell_type": "code",
   "execution_count": 31,
   "metadata": {},
   "outputs": [
    {
     "name": "stdout",
     "output_type": "stream",
     "text": [
      "<odict_iterator object at 0x7fc318249ea0>\n",
      "<odict_iterator object at 0x7fc318249ea0>\n"
     ]
    },
    {
     "name": "stderr",
     "output_type": "stream",
     "text": [
      "/home/dkarkada/miniconda3/envs/optimumtests/lib/python3.8/site-packages/transformers/models/auto/modeling_auto.py:921: FutureWarning: The class `AutoModelWithLMHead` is deprecated and will be removed in a future version. Please use `AutoModelForCausalLM` for causal language models, `AutoModelForMaskedLM` for masked language models and `AutoModelForSeq2SeqLM` for encoder-decoder models.\n",
      "  warnings.warn(\n",
      "Some weights of the model checkpoint at bert-base-multilingual-uncased were not used when initializing BertForMaskedLM: ['cls.seq_relationship.bias', 'cls.seq_relationship.weight']\n",
      "- This IS expected if you are initializing BertForMaskedLM from the checkpoint of a model trained on another task or with another architecture (e.g. initializing a BertForSequenceClassification model from a BertForPreTraining model).\n",
      "- This IS NOT expected if you are initializing BertForMaskedLM from the checkpoint of a model that you expect to be exactly identical (initializing a BertForSequenceClassification model from a BertForSequenceClassification model).\n"
     ]
    },
    {
     "name": "stdout",
     "output_type": "stream",
     "text": [
      "Loading model from PT file, inputs: None\n"
     ]
    },
    {
     "name": "stderr",
     "output_type": "stream",
     "text": [
      "[W shape_type_inference.cpp:419] Warning: Constant folding in symbolic shape inference fails: index_select(): Index is supposed to be a vector\n",
      "Exception raised from index_select_out_cpu_ at ../aten/src/ATen/native/TensorAdvancedIndexing.cpp:758 (most recent call first):\n",
      "frame #0: c10::Error::Error(c10::SourceLocation, std::string) + 0x42 (0x7fc46f94c302 in /home/dkarkada/miniconda3/envs/optimumtests/lib/python3.8/site-packages/torch/lib/libc10.so)\n",
      "frame #1: at::native::index_select_out_cpu_(at::Tensor const&, long, at::Tensor const&, at::Tensor&) + 0x2a9 (0x7fc45e2adb89 in /home/dkarkada/miniconda3/envs/optimumtests/lib/python3.8/site-packages/torch/lib/libtorch_cpu.so)\n",
      "frame #2: at::native::index_select_cpu_(at::Tensor const&, long, at::Tensor const&) + 0x60 (0x7fc45e2b05e0 in /home/dkarkada/miniconda3/envs/optimumtests/lib/python3.8/site-packages/torch/lib/libtorch_cpu.so)\n",
      "frame #3: <unknown function> + 0x19acf62 (0x7fc45ea25f62 in /home/dkarkada/miniconda3/envs/optimumtests/lib/python3.8/site-packages/torch/lib/libtorch_cpu.so)\n",
      "frame #4: at::redispatch::index_select(c10::DispatchKeySet, at::Tensor const&, long, at::Tensor const&) + 0xb4 (0x7fc45e8a8304 in /home/dkarkada/miniconda3/envs/optimumtests/lib/python3.8/site-packages/torch/lib/libtorch_cpu.so)\n",
      "frame #5: <unknown function> + 0x2fbf921 (0x7fc460038921 in /home/dkarkada/miniconda3/envs/optimumtests/lib/python3.8/site-packages/torch/lib/libtorch_cpu.so)\n",
      "frame #6: <unknown function> + 0x2fbfd75 (0x7fc460038d75 in /home/dkarkada/miniconda3/envs/optimumtests/lib/python3.8/site-packages/torch/lib/libtorch_cpu.so)\n",
      "frame #7: at::index_select(at::Tensor const&, long, at::Tensor const&) + 0x14e (0x7fc45e6c70ee in /home/dkarkada/miniconda3/envs/optimumtests/lib/python3.8/site-packages/torch/lib/libtorch_cpu.so)\n",
      "frame #8: torch::jit::onnx_constant_fold::runTorchBackendForOnnx(torch::jit::Node const*, std::vector<at::Tensor, std::allocator<at::Tensor> >&, int) + 0x1b50 (0x7fc470405070 in /home/dkarkada/miniconda3/envs/optimumtests/lib/python3.8/site-packages/torch/lib/libtorch_python.so)\n",
      "frame #9: <unknown function> + 0xa9f1de (0x7fc4704421de in /home/dkarkada/miniconda3/envs/optimumtests/lib/python3.8/site-packages/torch/lib/libtorch_python.so)\n",
      "frame #10: torch::jit::ONNXShapeTypeInference(torch::jit::Node*, std::map<std::string, c10::IValue, std::less<std::string>, std::allocator<std::pair<std::string const, c10::IValue> > > const&, int) + 0x906 (0x7fc470446f96 in /home/dkarkada/miniconda3/envs/optimumtests/lib/python3.8/site-packages/torch/lib/libtorch_python.so)\n",
      "frame #11: <unknown function> + 0xaa6c44 (0x7fc470449c44 in /home/dkarkada/miniconda3/envs/optimumtests/lib/python3.8/site-packages/torch/lib/libtorch_python.so)\n",
      "frame #12: <unknown function> + 0xa22d10 (0x7fc4703c5d10 in /home/dkarkada/miniconda3/envs/optimumtests/lib/python3.8/site-packages/torch/lib/libtorch_python.so)\n",
      "frame #13: <unknown function> + 0x4bae3e (0x7fc46fe5de3e in /home/dkarkada/miniconda3/envs/optimumtests/lib/python3.8/site-packages/torch/lib/libtorch_python.so)\n",
      "frame #14: <unknown function> + 0x13c00e (0x5611170de00e in /home/dkarkada/miniconda3/envs/optimumtests/bin/python)\n",
      "frame #15: _PyObject_MakeTpCall + 0x3bf (0x5611170d313f in /home/dkarkada/miniconda3/envs/optimumtests/bin/python)\n",
      "frame #16: _PyEval_EvalFrameDefault + 0x5434 (0x56111717ddd4 in /home/dkarkada/miniconda3/envs/optimumtests/bin/python)\n",
      "frame #17: _PyEval_EvalCodeWithName + 0x260 (0x56111716e600 in /home/dkarkada/miniconda3/envs/optimumtests/bin/python)\n",
      "frame #18: _PyFunction_Vectorcall + 0x594 (0x56111716fbc4 in /home/dkarkada/miniconda3/envs/optimumtests/bin/python)\n",
      "frame #19: _PyEval_EvalFrameDefault + 0x1510 (0x561117179eb0 in /home/dkarkada/miniconda3/envs/optimumtests/bin/python)\n",
      "frame #20: _PyEval_EvalCodeWithName + 0x260 (0x56111716e600 in /home/dkarkada/miniconda3/envs/optimumtests/bin/python)\n",
      "frame #21: _PyFunction_Vectorcall + 0x594 (0x56111716fbc4 in /home/dkarkada/miniconda3/envs/optimumtests/bin/python)\n",
      "frame #22: _PyEval_EvalFrameDefault + 0x1510 (0x561117179eb0 in /home/dkarkada/miniconda3/envs/optimumtests/bin/python)\n",
      "frame #23: _PyEval_EvalCodeWithName + 0x260 (0x56111716e600 in /home/dkarkada/miniconda3/envs/optimumtests/bin/python)\n",
      "frame #24: _PyFunction_Vectorcall + 0x594 (0x56111716fbc4 in /home/dkarkada/miniconda3/envs/optimumtests/bin/python)\n",
      "frame #25: _PyEval_EvalFrameDefault + 0x1510 (0x561117179eb0 in /home/dkarkada/miniconda3/envs/optimumtests/bin/python)\n",
      "frame #26: _PyEval_EvalCodeWithName + 0x260 (0x56111716e600 in /home/dkarkada/miniconda3/envs/optimumtests/bin/python)\n",
      "frame #27: _PyFunction_Vectorcall + 0x534 (0x56111716fb64 in /home/dkarkada/miniconda3/envs/optimumtests/bin/python)\n",
      "frame #28: _PyEval_EvalFrameDefault + 0x4f83 (0x56111717d923 in /home/dkarkada/miniconda3/envs/optimumtests/bin/python)\n",
      "frame #29: _PyEval_EvalCodeWithName + 0x260 (0x56111716e600 in /home/dkarkada/miniconda3/envs/optimumtests/bin/python)\n",
      "frame #30: _PyFunction_Vectorcall + 0x594 (0x56111716fbc4 in /home/dkarkada/miniconda3/envs/optimumtests/bin/python)\n",
      "frame #31: _PyEval_EvalFrameDefault + 0x1510 (0x561117179eb0 in /home/dkarkada/miniconda3/envs/optimumtests/bin/python)\n",
      "frame #32: _PyEval_EvalCodeWithName + 0x260 (0x56111716e600 in /home/dkarkada/miniconda3/envs/optimumtests/bin/python)\n",
      "frame #33: _PyFunction_Vectorcall + 0x534 (0x56111716fb64 in /home/dkarkada/miniconda3/envs/optimumtests/bin/python)\n",
      "frame #34: _PyEval_EvalFrameDefault + 0x71b (0x5611171790bb in /home/dkarkada/miniconda3/envs/optimumtests/bin/python)\n",
      "frame #35: _PyEval_EvalCodeWithName + 0xd5f (0x56111716f0ff in /home/dkarkada/miniconda3/envs/optimumtests/bin/python)\n",
      "frame #36: _PyFunction_Vectorcall + 0x594 (0x56111716fbc4 in /home/dkarkada/miniconda3/envs/optimumtests/bin/python)\n",
      "frame #37: <unknown function> + 0x166b2e (0x561117108b2e in /home/dkarkada/miniconda3/envs/optimumtests/bin/python)\n",
      "frame #38: _PyEval_EvalFrameDefault + 0x1510 (0x561117179eb0 in /home/dkarkada/miniconda3/envs/optimumtests/bin/python)\n",
      "frame #39: _PyEval_EvalCodeWithName + 0x260 (0x56111716e600 in /home/dkarkada/miniconda3/envs/optimumtests/bin/python)\n",
      "frame #40: <unknown function> + 0x1f98df (0x56111719b8df in /home/dkarkada/miniconda3/envs/optimumtests/bin/python)\n",
      "frame #41: <unknown function> + 0x13b23d (0x5611170dd23d in /home/dkarkada/miniconda3/envs/optimumtests/bin/python)\n",
      "frame #42: _PyEval_EvalFrameDefault + 0x71b (0x5611171790bb in /home/dkarkada/miniconda3/envs/optimumtests/bin/python)\n",
      "frame #43: <unknown function> + 0x1955c2 (0x5611171375c2 in /home/dkarkada/miniconda3/envs/optimumtests/bin/python)\n",
      "frame #44: _PyEval_EvalFrameDefault + 0x1b5b (0x56111717a4fb in /home/dkarkada/miniconda3/envs/optimumtests/bin/python)\n",
      "frame #45: <unknown function> + 0x1955c2 (0x5611171375c2 in /home/dkarkada/miniconda3/envs/optimumtests/bin/python)\n",
      "frame #46: _PyEval_EvalFrameDefault + 0x1b5b (0x56111717a4fb in /home/dkarkada/miniconda3/envs/optimumtests/bin/python)\n",
      "frame #47: <unknown function> + 0x1955c2 (0x5611171375c2 in /home/dkarkada/miniconda3/envs/optimumtests/bin/python)\n",
      "frame #48: <unknown function> + 0x17cd15 (0x56111711ed15 in /home/dkarkada/miniconda3/envs/optimumtests/bin/python)\n",
      "frame #49: _PyEval_EvalFrameDefault + 0x4c0 (0x561117178e60 in /home/dkarkada/miniconda3/envs/optimumtests/bin/python)\n",
      "frame #50: _PyFunction_Vectorcall + 0x1b7 (0x56111716f7e7 in /home/dkarkada/miniconda3/envs/optimumtests/bin/python)\n",
      "frame #51: _PyEval_EvalFrameDefault + 0x71b (0x5611171790bb in /home/dkarkada/miniconda3/envs/optimumtests/bin/python)\n",
      "frame #52: _PyFunction_Vectorcall + 0x1b7 (0x56111716f7e7 in /home/dkarkada/miniconda3/envs/optimumtests/bin/python)\n",
      "frame #53: _PyEval_EvalFrameDefault + 0x4c0 (0x561117178e60 in /home/dkarkada/miniconda3/envs/optimumtests/bin/python)\n",
      "frame #54: _PyEval_EvalCodeWithName + 0x260 (0x56111716e600 in /home/dkarkada/miniconda3/envs/optimumtests/bin/python)\n",
      "frame #55: _PyFunction_Vectorcall + 0x594 (0x56111716fbc4 in /home/dkarkada/miniconda3/envs/optimumtests/bin/python)\n",
      "frame #56: <unknown function> + 0x166bf8 (0x561117108bf8 in /home/dkarkada/miniconda3/envs/optimumtests/bin/python)\n",
      "frame #57: PyObject_Call + 0x319 (0x5611170d94a9 in /home/dkarkada/miniconda3/envs/optimumtests/bin/python)\n",
      "frame #58: _PyEval_EvalFrameDefault + 0x1f07 (0x56111717a8a7 in /home/dkarkada/miniconda3/envs/optimumtests/bin/python)\n",
      "frame #59: _PyEval_EvalCodeWithName + 0x888 (0x56111716ec28 in /home/dkarkada/miniconda3/envs/optimumtests/bin/python)\n",
      "frame #60: _PyFunction_Vectorcall + 0x594 (0x56111716fbc4 in /home/dkarkada/miniconda3/envs/optimumtests/bin/python)\n",
      "frame #61: <unknown function> + 0x166b2e (0x561117108b2e in /home/dkarkada/miniconda3/envs/optimumtests/bin/python)\n",
      "frame #62: _PyEval_EvalFrameDefault + 0x1510 (0x561117179eb0 in /home/dkarkada/miniconda3/envs/optimumtests/bin/python)\n",
      "frame #63: <unknown function> + 0x1955c2 (0x5611171375c2 in /home/dkarkada/miniconda3/envs/optimumtests/bin/python)\n",
      " (function ComputeConstantFolding)\n",
      "[W shape_type_inference.cpp:419] Warning: Constant folding in symbolic shape inference fails: index_select(): Index is supposed to be a vector\n",
      "Exception raised from index_select_out_cpu_ at ../aten/src/ATen/native/TensorAdvancedIndexing.cpp:758 (most recent call first):\n",
      "frame #0: c10::Error::Error(c10::SourceLocation, std::string) + 0x42 (0x7fc46f94c302 in /home/dkarkada/miniconda3/envs/optimumtests/lib/python3.8/site-packages/torch/lib/libc10.so)\n",
      "frame #1: at::native::index_select_out_cpu_(at::Tensor const&, long, at::Tensor const&, at::Tensor&) + 0x2a9 (0x7fc45e2adb89 in /home/dkarkada/miniconda3/envs/optimumtests/lib/python3.8/site-packages/torch/lib/libtorch_cpu.so)\n",
      "frame #2: at::native::index_select_cpu_(at::Tensor const&, long, at::Tensor const&) + 0x60 (0x7fc45e2b05e0 in /home/dkarkada/miniconda3/envs/optimumtests/lib/python3.8/site-packages/torch/lib/libtorch_cpu.so)\n",
      "frame #3: <unknown function> + 0x19acf62 (0x7fc45ea25f62 in /home/dkarkada/miniconda3/envs/optimumtests/lib/python3.8/site-packages/torch/lib/libtorch_cpu.so)\n",
      "frame #4: at::redispatch::index_select(c10::DispatchKeySet, at::Tensor const&, long, at::Tensor const&) + 0xb4 (0x7fc45e8a8304 in /home/dkarkada/miniconda3/envs/optimumtests/lib/python3.8/site-packages/torch/lib/libtorch_cpu.so)\n",
      "frame #5: <unknown function> + 0x2fbf921 (0x7fc460038921 in /home/dkarkada/miniconda3/envs/optimumtests/lib/python3.8/site-packages/torch/lib/libtorch_cpu.so)\n",
      "frame #6: <unknown function> + 0x2fbfd75 (0x7fc460038d75 in /home/dkarkada/miniconda3/envs/optimumtests/lib/python3.8/site-packages/torch/lib/libtorch_cpu.so)\n",
      "frame #7: at::index_select(at::Tensor const&, long, at::Tensor const&) + 0x14e (0x7fc45e6c70ee in /home/dkarkada/miniconda3/envs/optimumtests/lib/python3.8/site-packages/torch/lib/libtorch_cpu.so)\n",
      "frame #8: torch::jit::onnx_constant_fold::runTorchBackendForOnnx(torch::jit::Node const*, std::vector<at::Tensor, std::allocator<at::Tensor> >&, int) + 0x1b50 (0x7fc470405070 in /home/dkarkada/miniconda3/envs/optimumtests/lib/python3.8/site-packages/torch/lib/libtorch_python.so)\n",
      "frame #9: <unknown function> + 0xa9f1de (0x7fc4704421de in /home/dkarkada/miniconda3/envs/optimumtests/lib/python3.8/site-packages/torch/lib/libtorch_python.so)\n",
      "frame #10: torch::jit::ONNXShapeTypeInference(torch::jit::Node*, std::map<std::string, c10::IValue, std::less<std::string>, std::allocator<std::pair<std::string const, c10::IValue> > > const&, int) + 0x906 (0x7fc470446f96 in /home/dkarkada/miniconda3/envs/optimumtests/lib/python3.8/site-packages/torch/lib/libtorch_python.so)\n",
      "frame #11: <unknown function> + 0xaa6c44 (0x7fc470449c44 in /home/dkarkada/miniconda3/envs/optimumtests/lib/python3.8/site-packages/torch/lib/libtorch_python.so)\n",
      "frame #12: <unknown function> + 0xa22d10 (0x7fc4703c5d10 in /home/dkarkada/miniconda3/envs/optimumtests/lib/python3.8/site-packages/torch/lib/libtorch_python.so)\n",
      "frame #13: <unknown function> + 0x4bae3e (0x7fc46fe5de3e in /home/dkarkada/miniconda3/envs/optimumtests/lib/python3.8/site-packages/torch/lib/libtorch_python.so)\n",
      "frame #14: <unknown function> + 0x13c00e (0x5611170de00e in /home/dkarkada/miniconda3/envs/optimumtests/bin/python)\n",
      "frame #15: _PyObject_MakeTpCall + 0x3bf (0x5611170d313f in /home/dkarkada/miniconda3/envs/optimumtests/bin/python)\n",
      "frame #16: _PyEval_EvalFrameDefault + 0x5434 (0x56111717ddd4 in /home/dkarkada/miniconda3/envs/optimumtests/bin/python)\n",
      "frame #17: _PyEval_EvalCodeWithName + 0x260 (0x56111716e600 in /home/dkarkada/miniconda3/envs/optimumtests/bin/python)\n",
      "frame #18: _PyFunction_Vectorcall + 0x594 (0x56111716fbc4 in /home/dkarkada/miniconda3/envs/optimumtests/bin/python)\n",
      "frame #19: _PyEval_EvalFrameDefault + 0x1510 (0x561117179eb0 in /home/dkarkada/miniconda3/envs/optimumtests/bin/python)\n",
      "frame #20: _PyEval_EvalCodeWithName + 0x260 (0x56111716e600 in /home/dkarkada/miniconda3/envs/optimumtests/bin/python)\n",
      "frame #21: _PyFunction_Vectorcall + 0x594 (0x56111716fbc4 in /home/dkarkada/miniconda3/envs/optimumtests/bin/python)\n",
      "frame #22: _PyEval_EvalFrameDefault + 0x1"
     ]
    },
    {
     "name": "stderr",
     "output_type": "stream",
     "text": [
      "510 (0x561117179eb0 in /home/dkarkada/miniconda3/envs/optimumtests/bin/python)\n",
      "frame #23: _PyEval_EvalCodeWithName + 0x260 (0x56111716e600 in /home/dkarkada/miniconda3/envs/optimumtests/bin/python)\n",
      "frame #24: _PyFunction_Vectorcall + 0x534 (0x56111716fb64 in /home/dkarkada/miniconda3/envs/optimumtests/bin/python)\n",
      "frame #25: _PyEval_EvalFrameDefault + 0x4f83 (0x56111717d923 in /home/dkarkada/miniconda3/envs/optimumtests/bin/python)\n",
      "frame #26: _PyEval_EvalCodeWithName + 0x260 (0x56111716e600 in /home/dkarkada/miniconda3/envs/optimumtests/bin/python)\n",
      "frame #27: _PyFunction_Vectorcall + 0x594 (0x56111716fbc4 in /home/dkarkada/miniconda3/envs/optimumtests/bin/python)\n",
      "frame #28: _PyEval_EvalFrameDefault + 0x1510 (0x561117179eb0 in /home/dkarkada/miniconda3/envs/optimumtests/bin/python)\n",
      "frame #29: _PyEval_EvalCodeWithName + 0x260 (0x56111716e600 in /home/dkarkada/miniconda3/envs/optimumtests/bin/python)\n",
      "frame #30: _PyFunction_Vectorcall + 0x534 (0x56111716fb64 in /home/dkarkada/miniconda3/envs/optimumtests/bin/python)\n",
      "frame #31: _PyEval_EvalFrameDefault + 0x71b (0x5611171790bb in /home/dkarkada/miniconda3/envs/optimumtests/bin/python)\n",
      "frame #32: _PyEval_EvalCodeWithName + 0xd5f (0x56111716f0ff in /home/dkarkada/miniconda3/envs/optimumtests/bin/python)\n",
      "frame #33: _PyFunction_Vectorcall + 0x594 (0x56111716fbc4 in /home/dkarkada/miniconda3/envs/optimumtests/bin/python)\n",
      "frame #34: <unknown function> + 0x166b2e (0x561117108b2e in /home/dkarkada/miniconda3/envs/optimumtests/bin/python)\n",
      "frame #35: _PyEval_EvalFrameDefault + 0x1510 (0x561117179eb0 in /home/dkarkada/miniconda3/envs/optimumtests/bin/python)\n",
      "frame #36: _PyEval_EvalCodeWithName + 0x260 (0x56111716e600 in /home/dkarkada/miniconda3/envs/optimumtests/bin/python)\n",
      "frame #37: <unknown function> + 0x1f98df (0x56111719b8df in /home/dkarkada/miniconda3/envs/optimumtests/bin/python)\n",
      "frame #38: <unknown function> + 0x13b23d (0x5611170dd23d in /home/dkarkada/miniconda3/envs/optimumtests/bin/python)\n",
      "frame #39: _PyEval_EvalFrameDefault + 0x71b (0x5611171790bb in /home/dkarkada/miniconda3/envs/optimumtests/bin/python)\n",
      "frame #40: <unknown function> + 0x1955c2 (0x5611171375c2 in /home/dkarkada/miniconda3/envs/optimumtests/bin/python)\n",
      "frame #41: _PyEval_EvalFrameDefault + 0x1b5b (0x56111717a4fb in /home/dkarkada/miniconda3/envs/optimumtests/bin/python)\n",
      "frame #42: <unknown function> + 0x1955c2 (0x5611171375c2 in /home/dkarkada/miniconda3/envs/optimumtests/bin/python)\n",
      "frame #43: _PyEval_EvalFrameDefault + 0x1b5b (0x56111717a4fb in /home/dkarkada/miniconda3/envs/optimumtests/bin/python)\n",
      "frame #44: <unknown function> + 0x1955c2 (0x5611171375c2 in /home/dkarkada/miniconda3/envs/optimumtests/bin/python)\n",
      "frame #45: <unknown function> + 0x17cd15 (0x56111711ed15 in /home/dkarkada/miniconda3/envs/optimumtests/bin/python)\n",
      "frame #46: _PyEval_EvalFrameDefault + 0x4c0 (0x561117178e60 in /home/dkarkada/miniconda3/envs/optimumtests/bin/python)\n",
      "frame #47: _PyFunction_Vectorcall + 0x1b7 (0x56111716f7e7 in /home/dkarkada/miniconda3/envs/optimumtests/bin/python)\n",
      "frame #48: _PyEval_EvalFrameDefault + 0x71b (0x5611171790bb in /home/dkarkada/miniconda3/envs/optimumtests/bin/python)\n",
      "frame #49: _PyFunction_Vectorcall + 0x1b7 (0x56111716f7e7 in /home/dkarkada/miniconda3/envs/optimumtests/bin/python)\n",
      "frame #50: _PyEval_EvalFrameDefault + 0x4c0 (0x561117178e60 in /home/dkarkada/miniconda3/envs/optimumtests/bin/python)\n",
      "frame #51: _PyEval_EvalCodeWithName + 0x260 (0x56111716e600 in /home/dkarkada/miniconda3/envs/optimumtests/bin/python)\n",
      "frame #52: _PyFunction_Vectorcall + 0x594 (0x56111716fbc4 in /home/dkarkada/miniconda3/envs/optimumtests/bin/python)\n",
      "frame #53: <unknown function> + 0x166bf8 (0x561117108bf8 in /home/dkarkada/miniconda3/envs/optimumtests/bin/python)\n",
      "frame #54: PyObject_Call + 0x319 (0x5611170d94a9 in /home/dkarkada/miniconda3/envs/optimumtests/bin/python)\n",
      "frame #55: _PyEval_EvalFrameDefault + 0x1f07 (0x56111717a8a7 in /home/dkarkada/miniconda3/envs/optimumtests/bin/python)\n",
      "frame #56: _PyEval_EvalCodeWithName + 0x888 (0x56111716ec28 in /home/dkarkada/miniconda3/envs/optimumtests/bin/python)\n",
      "frame #57: _PyFunction_Vectorcall + 0x594 (0x56111716fbc4 in /home/dkarkada/miniconda3/envs/optimumtests/bin/python)\n",
      "frame #58: <unknown function> + 0x166b2e (0x561117108b2e in /home/dkarkada/miniconda3/envs/optimumtests/bin/python)\n",
      "frame #59: _PyEval_EvalFrameDefault + 0x1510 (0x561117179eb0 in /home/dkarkada/miniconda3/envs/optimumtests/bin/python)\n",
      "frame #60: <unknown function> + 0x1955c2 (0x5611171375c2 in /home/dkarkada/miniconda3/envs/optimumtests/bin/python)\n",
      "frame #61: _PyEval_EvalFrameDefault + 0x1b5b (0x56111717a4fb in /home/dkarkada/miniconda3/envs/optimumtests/bin/python)\n",
      "frame #62: <unknown function> + 0x1955c2 (0x5611171375c2 in /home/dkarkada/miniconda3/envs/optimumtests/bin/python)\n",
      "frame #63: _PyEval_EvalFrameDefault + 0x1b5b (0x56111717a4fb in /home/dkarkada/miniconda3/envs/optimumtests/bin/python)\n",
      " (function ComputeConstantFolding)\n"
     ]
    }
   ],
   "source": [
    "model_name = 'bert-base-multilingual-uncased'\n",
    "config = AutoConfig.from_pretrained(model_name)\n",
    "tokenizer = AutoTokenizer.from_pretrained(model_name)\n",
    "ov_model = OVAutoModelWithLMHead.from_pretrained(model_name, config=config, from_pt=True)\n",
    "ov_model.save_pretrained('bert-base-multilingual_OV_IR')"
   ]
  },
  {
   "cell_type": "markdown",
   "metadata": {},
   "source": [
    "### Evaluate the model by comparing to the results on the HF model card: https://huggingface.co/bert-base-multilingual-uncased"
   ]
  },
  {
   "cell_type": "code",
   "execution_count": 32,
   "metadata": {},
   "outputs": [
    {
     "name": "stdout",
     "output_type": "stream",
     "text": [
      "<odict_iterator object at 0x7fc3182a5a90>\n",
      "<odict_iterator object at 0x7fc3182a5a90>\n",
      "<odict_iterator object at 0x7fc318251630>\n",
      "<odict_iterator object at 0x7fc318251630>\n",
      "<odict_iterator object at 0x7fc318251630>\n",
      "<odict_iterator object at 0x7fc318251630>\n",
      "<odict_iterator object at 0x7fc3181a2090>\n",
      "<odict_iterator object at 0x7fc3181a2090>\n",
      "<odict_iterator object at 0x7fc3181a2720>\n",
      "<odict_iterator object at 0x7fc3181a2720>\n",
      "<odict_iterator object at 0x7fc3181a2720>\n",
      "<odict_iterator object at 0x7fc3181a2720>\n",
      "<odict_iterator object at 0x7fc3181a2720>\n",
      "<odict_iterator object at 0x7fc3181a2720>\n",
      "<odict_iterator object at 0x7fc3181a2720>\n",
      "<odict_iterator object at 0x7fc3181a2720>\n",
      "<odict_iterator object at 0x7fc3181a2720>\n",
      "<odict_iterator object at 0x7fc3181a2720>\n",
      "<odict_iterator object at 0x7fc3181a21d0>\n",
      "<odict_iterator object at 0x7fc3181a21d0>\n",
      "<odict_iterator object at 0x7fc3181a21d0>\n",
      "<odict_iterator object at 0x7fc3181a21d0>\n",
      "<odict_iterator object at 0x7fc3181a21d0>\n",
      "<odict_iterator object at 0x7fc3181a21d0>\n",
      "<odict_iterator object at 0x7fc3181a21d0>\n",
      "<odict_iterator object at 0x7fc3181a21d0>\n"
     ]
    },
    {
     "data": {
      "text/plain": [
       "[{'score': 0.1507755070924759,\n",
       "  'token': 11397,\n",
       "  'token_str': 'top',\n",
       "  'sequence': \"hello i'm a top model.\"},\n",
       " {'score': 0.1307542622089386,\n",
       "  'token': 23589,\n",
       "  'token_str': 'fashion',\n",
       "  'sequence': \"hello i'm a fashion model.\"},\n",
       " {'score': 0.03627277538180351,\n",
       "  'token': 12050,\n",
       "  'token_str': 'good',\n",
       "  'sequence': \"hello i'm a good model.\"},\n",
       " {'score': 0.035954684019088745,\n",
       "  'token': 10246,\n",
       "  'token_str': 'new',\n",
       "  'sequence': \"hello i'm a new model.\"},\n",
       " {'score': 0.028643080964684486,\n",
       "  'token': 11838,\n",
       "  'token_str': 'great',\n",
       "  'sequence': \"hello i'm a great model.\"}]"
      ]
     },
     "execution_count": 32,
     "metadata": {},
     "output_type": "execute_result"
    }
   ],
   "source": [
    "from transformers import pipeline\n",
    "unmasker = pipeline('fill-mask', model=ov_model, tokenizer=tokenizer)\n",
    "unmasker(\"Hello I'm a [MASK] model.\")"
   ]
  },
  {
   "cell_type": "markdown",
   "metadata": {},
   "source": [
    "### Benchmark the converted model using the benchmark app\n",
    "The OpenVINO toolkit provides a benchmarking application to gauge the platform specific runtime performance that can be obtained under optimal configuration parameters for a given model. For more details refer to: https://docs.openvino.ai/latest/openvino_inference_engine_tools_benchmark_tool_README.html"
   ]
  },
  {
   "cell_type": "code",
   "execution_count": 33,
   "metadata": {},
   "outputs": [
    {
     "name": "stdout",
     "output_type": "stream",
     "text": [
      "Benchmark OpenVINO model using the benchmark app\n",
      "<odict_iterator object at 0x7fc3182a59f0>huggingface/tokenizers: The current process just got forked, after parallelism has already been used. Disabling parallelism to avoid deadlocks...\n",
      "To disable this warning, you can either:\n",
      "\t- Avoid using `tokenizers` before the fork if possible\n",
      "\n",
      "<odict_iterator object at 0x7fc3182a59f0>\n",
      "\t- Explicitly set the environment variable TOKENIZERS_PARALLELISM=(true | false)\n",
      "[Step 1/11] Parsing and validating input arguments\n",
      "[ WARNING ]  -nstreams default value is determined automatically for a device. Although the automatic selection usually provides a reasonable performance, but it still may be non-optimal for some cases, for more information look at README. \n",
      "[Step 2/11] Loading OpenVINO\n",
      "[ INFO ] OpenVINO:\n",
      "         API version............. 2022.1.0-7019-cdb9bec7210-releases/2022/1\n",
      "[ INFO ] Device info\n",
      "         CPU\n",
      "         openvino_intel_cpu_plugin version 2022.1\n",
      "         Build................... 2022.1.0-7019-cdb9bec7210-releases/2022/1\n",
      "\n",
      "[Step 3/11] Setting device configuration\n",
      "[Step 4/11] Reading network files\n",
      "[ INFO ] Read model took 629.16 ms\n",
      "[Step 5/11] Resizing network to match image sizes and given batch\n",
      "[ INFO ] Reshaping model: 'input_ids': {1,256}, 'attention_mask': {1,256}\n",
      "[ INFO ] Reshape model took 34.98 ms\n",
      "[ INFO ] Network batch size: 1\n",
      "[Step 6/11] Configuring input of the model\n",
      "[ INFO ] Model input 'input_ids' precision i32, dimensions ([...]): 1 256\n",
      "[ INFO ] Model input 'attention_mask' precision i32, dimensions ([...]): 1 256\n",
      "[ INFO ] Model output 'output' precision f32, dimensions ([...]): 1 256 105879\n",
      "[Step 7/11] Loading the model to the device\n",
      "[ INFO ] Compile model took 3884.07 ms\n",
      "[Step 8/11] Querying optimal runtime parameters\n",
      "[ INFO ] DEVICE: CPU\n",
      "[ INFO ]   AVAILABLE_DEVICES  , ['']\n",
      "[ INFO ]   RANGE_FOR_ASYNC_INFER_REQUESTS  , (1, 1, 1)\n",
      "[ INFO ]   RANGE_FOR_STREAMS  , (1, 96)\n",
      "[ INFO ]   FULL_DEVICE_NAME  , Intel(R) Xeon(R) Gold 6252N CPU @ 2.30GHz\n",
      "[ INFO ]   OPTIMIZATION_CAPABILITIES  , ['WINOGRAD', 'FP32', 'FP16', 'INT8', 'BIN', 'EXPORT_IMPORT']\n",
      "[ INFO ]   CACHE_DIR  , \n",
      "[ INFO ]   NUM_STREAMS  , 1\n",
      "[ INFO ]   INFERENCE_NUM_THREADS  , 0\n",
      "[ INFO ]   PERF_COUNT  , False\n",
      "[ INFO ]   PERFORMANCE_HINT_NUM_REQUESTS  , 0\n",
      "[Step 9/11] Creating infer requests and preparing input data\n",
      "[ INFO ] Create 2 infer requests took 1.76 ms\n",
      "[ WARNING ] No input files were given for input 'input_ids'!. This input will be filled with random values!\n",
      "[ WARNING ] No input files were given for input 'attention_mask'!. This input will be filled with random values!\n",
      "[ INFO ] Fill input 'input_ids' with random values \n",
      "[ INFO ] Fill input 'attention_mask' with random values \n",
      "[Step 10/11] Measuring performance (Start inference asynchronously, 2 inference requests, inference only: True, limits: 10000 ms duration)\n",
      "[ INFO ] Benchmarking in inference only mode (inputs filling are not included in measurement loop).\n",
      "[ INFO ] First inference took 59.89 ms\n",
      "[Step 11/11] Dumping statistics report\n",
      "Count:          372 iterations\n",
      "Duration:       10106.91 ms\n",
      "Latency:\n",
      "    Median:     50.87 ms\n",
      "    AVG:        54.12 ms\n",
      "    MIN:        47.24 ms\n",
      "    MAX:        92.70 ms\n",
      "Throughput: 36.81 FPS\n"
     ]
    }
   ],
   "source": [
    "base_model_name = 'bert-base-multilingual_OV_IR/ov_model.xml'\n",
    "\n",
    "# Set the sequence length for benchmarking\n",
    "seq_len = 128\n",
    "\n",
    "print('Benchmark OpenVINO model using the benchmark app')\n",
    "! benchmark_app -m \"$base_model_name\" -d CPU -api async -t 10 -hint latency -shape [1,\"$seq_len\"]"
   ]
  }
 ],
 "metadata": {
  "interpreter": {
   "hash": "bb4d065df37eb8837d29a71c37c0df1b5b5cffbae7790c0bbef4d6b86d2d3c47"
  },
  "kernelspec": {
   "display_name": "Python 3.8.13 ('optimumtests')",
   "language": "python",
   "name": "python3"
  },
  "language_info": {
   "codemirror_mode": {
    "name": "ipython",
    "version": 3
   },
   "file_extension": ".py",
   "mimetype": "text/x-python",
   "name": "python",
   "nbconvert_exporter": "python",
   "pygments_lexer": "ipython3",
   "version": "3.8.13"
  },
  "orig_nbformat": 4
 },
 "nbformat": 4,
 "nbformat_minor": 2
}
