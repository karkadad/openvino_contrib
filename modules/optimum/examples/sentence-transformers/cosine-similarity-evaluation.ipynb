{
 "cells": [
  {
   "cell_type": "markdown",
   "metadata": {},
   "source": [
    "## OpenVINO optimizations for Text classification task\n"
   ]
  },
  {
   "cell_type": "markdown",
   "metadata": {},
   "source": [
    "## Import the packages needed for successful execution"
   ]
  },
  {
   "cell_type": "code",
   "execution_count": null,
   "metadata": {},
   "outputs": [],
   "source": [
    "from transformers import AutoModel, AutoConfig, AutoTokenizer, AutoModel\n",
    "from optimum.intel.openvino import OVAutoModel\n",
    "\n",
    "import torch"
   ]
  },
  {
   "cell_type": "markdown",
   "metadata": {},
   "source": [
    "### Load models"
   ]
  },
  {
   "cell_type": "code",
   "execution_count": null,
   "metadata": {},
   "outputs": [],
   "source": [
    "model_name = 'sentence-transformers/roberta-base-nli-stsb-mean-tokens'\n",
    "\n",
    "# Load model from HuggingFace Hub\n",
    "tokenizer = AutoTokenizer.from_pretrained(model_name)\n",
    "config = AutoConfig.from_pretrained(model_name)\n",
    "\n",
    "pt_model =  AutoModel.from_pretrained(model_name)\n",
    "\n",
    "ov_xml_model_path = 'quantization/NNCF_optimized_model'\n",
    "ov_model = OVAutoModel.from_pretrained(ov_xml_model_path, config=config, from_ov=True)"
   ]
  },
  {
   "cell_type": "markdown",
   "metadata": {},
   "source": [
    "### Test Cosine similarity with sentence transformers\n"
   ]
  },
  {
   "cell_type": "code",
   "execution_count": null,
   "metadata": {},
   "outputs": [],
   "source": [
    "#Mean Pooling - Take attention mask into account for correct averaging\n",
    "def mean_pooling(model_output, attention_mask):\n",
    "    token_embeddings = model_output[0] #First element of model_output contains all token embeddings\n",
    "    input_mask_expanded = attention_mask.unsqueeze(-1).expand(token_embeddings.size()).float()\n",
    "    return torch.sum(token_embeddings * input_mask_expanded, 1) / torch.clamp(input_mask_expanded.sum(1), min=1e-9)\n",
    "\n",
    "def get_cosine_similarity(model, inputs):\n",
    "    model_output = model(input_ids=inputs['input_ids'], attention_mask=inputs['attention_mask'])\n",
    "    sentence_embeddings = mean_pooling(model_output, inputs['attention_mask'])\n",
    "    cos_sim = torch.nn.CosineSimilarity(dim=0)\n",
    "    output=cos_sim(sentence_embeddings[0],sentence_embeddings[1])\n",
    "    return output\n",
    "\n",
    "sent_pairs = [['This is a happy day', 'This is a happy day'], ['This is a happy day', 'This is an example sentence'], ['That is a happy person', 'That is a happy dog'], ['This is a happy day', 'This is not a good sentence']]\n",
    "\n",
    "for sent_pair in sent_pairs:\n",
    "    encoded_inputs = tokenizer(sent_pair, padding=\"max_length\", truncation=True, return_tensors='pt')\n",
    "\n",
    "    print(f' Sentence pair: {sent_pair}')\n",
    "\n",
    "    pt_cos_sim = get_cosine_similarity(pt_model, encoded_inputs)\n",
    "    ov_cos_sim = get_cosine_similarity(ov_model, encoded_inputs)\n",
    "    print(f'Cosine similarity score with PyTorch: {pt_cos_sim}; Cosine similarity score with OV: {ov_cos_sim} \\n')\n"
   ]
  },
  {
   "cell_type": "markdown",
   "metadata": {},
   "source": [
    "### Benchmark the converted model using the benchmark app\n",
    "The OpenVINO toolkit provides a benchmarking application to gauge the platform specific runtime performance that can be obtained under optimal configuration parameters for a given model. For more details refer to: https://docs.openvino.ai/latest/openvino_inference_engine_tools_benchmark_tool_README.html"
   ]
  },
  {
   "cell_type": "code",
   "execution_count": null,
   "metadata": {},
   "outputs": [],
   "source": [
    "print('Benchmark OpenVINO model using the benchmark app')\n",
    "base_model_name = \"{}/ov_model.xml\".format(ov_xml_model_path)\n",
    "! benchmark_app -m \"$base_model_name\" -d CPU -api async -t 10 -hint latency"
   ]
  }
 ],
 "metadata": {
  "interpreter": {
   "hash": "bb4d065df37eb8837d29a71c37c0df1b5b5cffbae7790c0bbef4d6b86d2d3c47"
  },
  "kernelspec": {
   "display_name": "Python 3.8.13 ('optimumtests')",
   "language": "python",
   "name": "python3"
  },
  "language_info": {
   "codemirror_mode": {
    "name": "ipython",
    "version": 3
   },
   "file_extension": ".py",
   "mimetype": "text/x-python",
   "name": "python",
   "nbconvert_exporter": "python",
   "pygments_lexer": "ipython3",
   "version": "3.8.13"
  },
  "orig_nbformat": 4
 },
 "nbformat": 4,
 "nbformat_minor": 2
}
