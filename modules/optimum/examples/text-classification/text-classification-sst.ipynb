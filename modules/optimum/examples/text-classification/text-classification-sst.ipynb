{
 "cells": [
  {
   "cell_type": "markdown",
   "metadata": {},
   "source": [
    "## OpenVINO optimizations for Text classification task\n"
   ]
  },
  {
   "cell_type": "markdown",
   "metadata": {},
   "source": [
    "## Import the packages needed for successful execution"
   ]
  },
  {
   "cell_type": "code",
   "execution_count": 17,
   "metadata": {},
   "outputs": [
    {
     "name": "stdout",
     "output_type": "stream",
     "text": [
      "<odict_iterator object at 0x7f5be1bcb950>\n",
      "<odict_iterator object at 0x7f5be1bcb950>\n"
     ]
    }
   ],
   "source": [
    "from transformers import AutoConfig, AutoTokenizer, default_data_collator\n",
    "from datasets import load_dataset, load_metric\n",
    "from optimum.intel.openvino import OVAutoModelForSequenceClassification\n",
    "\n",
    "from torch.utils.data import DataLoader\n",
    "\n",
    "from tqdm import tqdm"
   ]
  },
  {
   "cell_type": "markdown",
   "metadata": {},
   "source": [
    "### Instructions on conversion to OpenVINO\n",
    "We will use the OpenVINO™ Integration with Optimum module to convert the sentiment classification model to an OpenVINO model object. <br>\n",
    "We will then use Huggingface datasets and metric to evaluate the converted model."
   ]
  },
  {
   "cell_type": "code",
   "execution_count": 37,
   "metadata": {},
   "outputs": [
    {
     "name": "stdout",
     "output_type": "stream",
     "text": [
      "<odict_iterator object at 0x7f5d91a71590>\n",
      "<odict_iterator object at 0x7f5d91a71590>\n",
      "Loading model from PT file, inputs: None\n",
      "<odict_iterator object at 0x7f5d91a719f0>\n",
      "<odict_iterator object at 0x7f5d91a71630>\n",
      "<odict_iterator object at 0x7f5d91a71630>\n",
      "<odict_iterator object at 0x7f5d91a71630>\n",
      "<odict_iterator object at 0x7f5d91a71c20>\n",
      "<odict_iterator object at 0x7f5d91a715e0>\n"
     ]
    },
    {
     "name": "stderr",
     "output_type": "stream",
     "text": [
      "[W shape_type_inference.cpp:419] Warning: Constant folding in symbolic shape inference fails: index_select(): Index is supposed to be a vector\n",
      "Exception raised from index_select_out_cpu_ at ../aten/src/ATen/native/TensorAdvancedIndexing.cpp:758 (most recent call first):\n",
      "frame #0: c10::Error::Error(c10::SourceLocation, std::string) + 0x42 (0x7f5f89458302 in /home/dkarkada/miniconda3/envs/optimumtests/lib/python3.8/site-packages/torch/lib/libc10.so)\n",
      "frame #1: at::native::index_select_out_cpu_(at::Tensor const&, long, at::Tensor const&, at::Tensor&) + 0x2a9 (0x7f5f77db9b89 in /home/dkarkada/miniconda3/envs/optimumtests/lib/python3.8/site-packages/torch/lib/libtorch_cpu.so)\n",
      "frame #2: at::native::index_select_cpu_(at::Tensor const&, long, at::Tensor const&) + 0x60 (0x7f5f77dbc5e0 in /home/dkarkada/miniconda3/envs/optimumtests/lib/python3.8/site-packages/torch/lib/libtorch_cpu.so)\n",
      "frame #3: <unknown function> + 0x19acf62 (0x7f5f78531f62 in /home/dkarkada/miniconda3/envs/optimumtests/lib/python3.8/site-packages/torch/lib/libtorch_cpu.so)\n",
      "frame #4: at::redispatch::index_select(c10::DispatchKeySet, at::Tensor const&, long, at::Tensor const&) + 0xb4 (0x7f5f783b4304 in /home/dkarkada/miniconda3/envs/optimumtests/lib/python3.8/site-packages/torch/lib/libtorch_cpu.so)\n",
      "frame #5: <unknown function> + 0x2fbf921 (0x7f5f79b44921 in /home/dkarkada/miniconda3/envs/optimumtests/lib/python3.8/site-packages/torch/lib/libtorch_cpu.so)\n",
      "frame #6: <unknown function> + 0x2fbfd75 (0x7f5f79b44d75 in /home/dkarkada/miniconda3/envs/optimumtests/lib/python3.8/site-packages/torch/lib/libtorch_cpu.so)\n",
      "frame #7: at::index_select(at::Tensor const&, long, at::Tensor const&) + 0x14e (0x7f5f781d30ee in /home/dkarkada/miniconda3/envs/optimumtests/lib/python3.8/site-packages/torch/lib/libtorch_cpu.so)\n",
      "frame #8: torch::jit::onnx_constant_fold::runTorchBackendForOnnx(torch::jit::Node const*, std::vector<at::Tensor, std::allocator<at::Tensor> >&, int) + 0x1b50 (0x7f5f89f11070 in /home/dkarkada/miniconda3/envs/optimumtests/lib/python3.8/site-packages/torch/lib/libtorch_python.so)\n",
      "frame #9: <unknown function> + 0xa9f1de (0x7f5f89f4e1de in /home/dkarkada/miniconda3/envs/optimumtests/lib/python3.8/site-packages/torch/lib/libtorch_python.so)\n",
      "frame #10: torch::jit::ONNXShapeTypeInference(torch::jit::Node*, std::map<std::string, c10::IValue, std::less<std::string>, std::allocator<std::pair<std::string const, c10::IValue> > > const&, int) + 0x906 (0x7f5f89f52f96 in /home/dkarkada/miniconda3/envs/optimumtests/lib/python3.8/site-packages/torch/lib/libtorch_python.so)\n",
      "frame #11: <unknown function> + 0xaa6c44 (0x7f5f89f55c44 in /home/dkarkada/miniconda3/envs/optimumtests/lib/python3.8/site-packages/torch/lib/libtorch_python.so)\n",
      "frame #12: <unknown function> + 0xa22d10 (0x7f5f89ed1d10 in /home/dkarkada/miniconda3/envs/optimumtests/lib/python3.8/site-packages/torch/lib/libtorch_python.so)\n",
      "frame #13: <unknown function> + 0x4bae3e (0x7f5f89969e3e in /home/dkarkada/miniconda3/envs/optimumtests/lib/python3.8/site-packages/torch/lib/libtorch_python.so)\n",
      "frame #14: <unknown function> + 0x13c00e (0x55ae2a68000e in /home/dkarkada/miniconda3/envs/optimumtests/bin/python)\n",
      "frame #15: _PyObject_MakeTpCall + 0x3bf (0x55ae2a67513f in /home/dkarkada/miniconda3/envs/optimumtests/bin/python)\n",
      "frame #16: _PyEval_EvalFrameDefault + 0x5434 (0x55ae2a71fdd4 in /home/dkarkada/miniconda3/envs/optimumtests/bin/python)\n",
      "frame #17: _PyEval_EvalCodeWithName + 0x260 (0x55ae2a710600 in /home/dkarkada/miniconda3/envs/optimumtests/bin/python)\n",
      "frame #18: _PyFunction_Vectorcall + 0x594 (0x55ae2a711bc4 in /home/dkarkada/miniconda3/envs/optimumtests/bin/python)\n",
      "frame #19: _PyEval_EvalFrameDefault + 0x1510 (0x55ae2a71beb0 in /home/dkarkada/miniconda3/envs/optimumtests/bin/python)\n",
      "frame #20: _PyEval_EvalCodeWithName + 0x260 (0x55ae2a710600 in /home/dkarkada/miniconda3/envs/optimumtests/bin/python)\n",
      "frame #21: _PyFunction_Vectorcall + 0x594 (0x55ae2a711bc4 in /home/dkarkada/miniconda3/envs/optimumtests/bin/python)\n",
      "frame #22: _PyEval_EvalFrameDefault + 0x1510 (0x55ae2a71beb0 in /home/dkarkada/miniconda3/envs/optimumtests/bin/python)\n",
      "frame #23: _PyEval_EvalCodeWithName + 0x260 (0x55ae2a710600 in /home/dkarkada/miniconda3/envs/optimumtests/bin/python)\n",
      "frame #24: _PyFunction_Vectorcall + 0x594 (0x55ae2a711bc4 in /home/dkarkada/miniconda3/envs/optimumtests/bin/python)\n",
      "frame #25: _PyEval_EvalFrameDefault + 0x1510 (0x55ae2a71beb0 in /home/dkarkada/miniconda3/envs/optimumtests/bin/python)\n",
      "frame #26: _PyEval_EvalCodeWithName + 0x260 (0x55ae2a710600 in /home/dkarkada/miniconda3/envs/optimumtests/bin/python)\n",
      "frame #27: _PyFunction_Vectorcall + 0x534 (0x55ae2a711b64 in /home/dkarkada/miniconda3/envs/optimumtests/bin/python)\n",
      "frame #28: _PyEval_EvalFrameDefault + 0x4f83 (0x55ae2a71f923 in /home/dkarkada/miniconda3/envs/optimumtests/bin/python)\n",
      "frame #29: _PyEval_EvalCodeWithName + 0x260 (0x55ae2a710600 in /home/dkarkada/miniconda3/envs/optimumtests/bin/python)\n",
      "frame #30: _PyFunction_Vectorcall + 0x594 (0x55ae2a711bc4 in /home/dkarkada/miniconda3/envs/optimumtests/bin/python)\n",
      "frame #31: _PyEval_EvalFrameDefault + 0x1510 (0x55ae2a71beb0 in /home/dkarkada/miniconda3/envs/optimumtests/bin/python)\n",
      "frame #32: _PyEval_EvalCodeWithName + 0x260 (0x55ae2a710600 in /home/dkarkada/miniconda3/envs/optimumtests/bin/python)\n",
      "frame #33: _PyFunction_Vectorcall + 0x534 (0x55ae2a711b64 in /home/dkarkada/miniconda3/envs/optimumtests/bin/python)\n",
      "frame #34: _PyEval_EvalFrameDefault + 0x71b (0x55ae2a71b0bb in /home/dkarkada/miniconda3/envs/optimumtests/bin/python)\n",
      "frame #35: _PyEval_EvalCodeWithName + 0xd5f (0x55ae2a7110ff in /home/dkarkada/miniconda3/envs/optimumtests/bin/python)\n",
      "frame #36: _PyFunction_Vectorcall + 0x594 (0x55ae2a711bc4 in /home/dkarkada/miniconda3/envs/optimumtests/bin/python)\n",
      "frame #37: <unknown function> + 0x166b2e (0x55ae2a6aab2e in /home/dkarkada/miniconda3/envs/optimumtests/bin/python)\n",
      "frame #38: _PyEval_EvalFrameDefault + 0x1510 (0x55ae2a71beb0 in /home/dkarkada/miniconda3/envs/optimumtests/bin/python)\n",
      "frame #39: _PyEval_EvalCodeWithName + 0x260 (0x55ae2a710600 in /home/dkarkada/miniconda3/envs/optimumtests/bin/python)\n",
      "frame #40: <unknown function> + 0x1f98df (0x55ae2a73d8df in /home/dkarkada/miniconda3/envs/optimumtests/bin/python)\n",
      "frame #41: <unknown function> + 0x13b23d (0x55ae2a67f23d in /home/dkarkada/miniconda3/envs/optimumtests/bin/python)\n",
      "frame #42: _PyEval_EvalFrameDefault + 0x71b (0x55ae2a71b0bb in /home/dkarkada/miniconda3/envs/optimumtests/bin/python)\n",
      "frame #43: <unknown function> + 0x1955c2 (0x55ae2a6d95c2 in /home/dkarkada/miniconda3/envs/optimumtests/bin/python)\n",
      "frame #44: _PyEval_EvalFrameDefault + 0x1b5b (0x55ae2a71c4fb in /home/dkarkada/miniconda3/envs/optimumtests/bin/python)\n",
      "frame #45: <unknown function> + 0x1955c2 (0x55ae2a6d95c2 in /home/dkarkada/miniconda3/envs/optimumtests/bin/python)\n",
      "frame #46: _PyEval_EvalFrameDefault + 0x1b5b (0x55ae2a71c4fb in /home/dkarkada/miniconda3/envs/optimumtests/bin/python)\n",
      "frame #47: <unknown function> + 0x1955c2 (0x55ae2a6d95c2 in /home/dkarkada/miniconda3/envs/optimumtests/bin/python)\n",
      "frame #48: <unknown function> + 0x17cd15 (0x55ae2a6c0d15 in /home/dkarkada/miniconda3/envs/optimumtests/bin/python)\n",
      "frame #49: _PyEval_EvalFrameDefault + 0x4c0 (0x55ae2a71ae60 in /home/dkarkada/miniconda3/envs/optimumtests/bin/python)\n",
      "frame #50: _PyFunction_Vectorcall + 0x1b7 (0x55ae2a7117e7 in /home/dkarkada/miniconda3/envs/optimumtests/bin/python)\n",
      "frame #51: _PyEval_EvalFrameDefault + 0x71b (0x55ae2a71b0bb in /home/dkarkada/miniconda3/envs/optimumtests/bin/python)\n",
      "frame #52: _PyFunction_Vectorcall + 0x1b7 (0x55ae2a7117e7 in /home/dkarkada/miniconda3/envs/optimumtests/bin/python)\n",
      "frame #53: _PyEval_EvalFrameDefault + 0x4c0 (0x55ae2a71ae60 in /home/dkarkada/miniconda3/envs/optimumtests/bin/python)\n",
      "frame #54: _PyEval_EvalCodeWithName + 0x260 (0x55ae2a710600 in /home/dkarkada/miniconda3/envs/optimumtests/bin/python)\n",
      "frame #55: _PyFunction_Vectorcall + 0x594 (0x55ae2a711bc4 in /home/dkarkada/miniconda3/envs/optimumtests/bin/python)\n",
      "frame #56: <unknown function> + 0x166bf8 (0x55ae2a6aabf8 in /home/dkarkada/miniconda3/envs/optimumtests/bin/python)\n",
      "frame #57: PyObject_Call + 0x319 (0x55ae2a67b4a9 in /home/dkarkada/miniconda3/envs/optimumtests/bin/python)\n",
      "frame #58: _PyEval_EvalFrameDefault + 0x1f07 (0x55ae2a71c8a7 in /home/dkarkada/miniconda3/envs/optimumtests/bin/python)\n",
      "frame #59: _PyEval_EvalCodeWithName + 0x888 (0x55ae2a710c28 in /home/dkarkada/miniconda3/envs/optimumtests/bin/python)\n",
      "frame #60: _PyFunction_Vectorcall + 0x594 (0x55ae2a711bc4 in /home/dkarkada/miniconda3/envs/optimumtests/bin/python)\n",
      "frame #61: <unknown function> + 0x166b2e (0x55ae2a6aab2e in /home/dkarkada/miniconda3/envs/optimumtests/bin/python)\n",
      "frame #62: _PyEval_EvalFrameDefault + 0x1510 (0x55ae2a71beb0 in /home/dkarkada/miniconda3/envs/optimumtests/bin/python)\n",
      "frame #63: <unknown function> + 0x1955c2 (0x55ae2a6d95c2 in /home/dkarkada/miniconda3/envs/optimumtests/bin/python)\n",
      " (function ComputeConstantFolding)\n",
      "[W shape_type_inference.cpp:419] Warning: Constant folding in symbolic shape inference fails: index_select(): Index is supposed to be a vector\n",
      "Exception raised from index_select_out_cpu_ at ../aten/src/ATen/native/TensorAdvancedIndexing.cpp:758 (most recent call first):\n",
      "frame #0: c10::Error::Error(c10::SourceLocation, std::string) + 0x42 (0x7f5f89458302 in /home/dkarkada/miniconda3/envs/optimumtests/lib/python3.8/site-packages/torch/lib/libc10.so)\n",
      "frame #1: at::native::index_select_out_cpu_(at::Tensor const&, long, at::Tensor const&, at::Tensor&) + 0x2a9 (0x7f5f77db9b89 in /home/dkarkada/miniconda3/envs/optimumtests/lib/python3.8/site-packages/torch/lib/libtorch_cpu.so)\n",
      "frame #2: at::native::index_select_cpu_(at::Tensor const&, long, at::Tensor const&) + 0x60 (0x7f5f77dbc5e0 in /home/dkarkada/miniconda3/envs/optimumtests/lib/python3.8/site-packages/torch/lib/libtorch_cpu.so)\n",
      "frame #3: <unknown function> + 0x19acf62 (0x7f5f78531f62 in /home/dkarkada/miniconda3/envs/optimumtests/lib/python3.8/site-packages/torch/lib/libtorch_cpu.so)\n",
      "frame #4: at::redispatch::index_select(c10::DispatchKeySet, at::Tensor const&, long, at::Tensor const&) + 0xb4 (0x7f5f783b4304 in /home/dkarkada/miniconda3/envs/optimumtests/lib/python3.8/site-packages/torch/lib/libtorch_cpu.so)\n",
      "frame #5: <unknown function> + 0x2fbf921 (0x7f5f79b44921 in /home/dkarkada/miniconda3/envs/optimumtests/lib/python3.8/site-packages/torch/lib/libtorch_cpu.so)\n",
      "frame #6: <unknown function> + 0x2fbfd75 (0x7f5f79b44d75 in /home/dkarkada/miniconda3/envs/optimumtests/lib/python3.8/site-packages/torch/lib/libtorch_cpu.so)\n",
      "frame #7: at::index_select(at::Tensor const&, long, at::Tensor const&) + 0x14e (0x7f5f781d30ee in /home/dkarkada/miniconda3/envs/optimumtests/lib/python3.8/site-packages/torch/lib/libtorch_cpu.so)\n",
      "frame #8: torch::jit::onnx_constant_fold::runTorchBackendForOnnx(torch::jit::Node const*, std::vector<at::Tensor, std::allocator<at::Tensor> >&, int) + 0x1b50 (0x7f5f89f11070 in /home/dkarkada/miniconda3/envs/optimumtests/lib/python3.8/site-packages/torch/lib/libtorch_python.so)\n",
      "frame #9: <unknown function> + 0xa9f1de (0x7f5f89f4e1de in /home/dkarkada/miniconda3/envs/optimumtests/lib/python3.8/site-packages/torch/lib/libtorch_python.so)\n",
      "frame #10: torch::jit::ONNXShapeTypeInference(torch::jit::Node*, std::map<std::string, c10::IValue, std::less<std::string>, std::allocator<std::pair<std::string const, c10::IValue> > > const&, int) + 0x906 (0x7f5f89f52f96 in /home/dkarkada/miniconda3/envs/optimumtests/lib/python3.8/site-packages/torch/lib/libtorch_python.so)\n",
      "frame #11: <unknown function> + 0xaa6c44 (0x7f5f89f55c44 in /home/dkarkada/miniconda3/envs/optimumtests/lib/python3.8/site-packages/torch/lib/libtorch_python.so)\n",
      "frame #12: <unknown function> + 0xa22d10 (0x7f5f89ed1d10 in /home/dkarkada/miniconda3/envs/optimumtests/lib/python3.8/site-packages/torch/lib/libtorch_python.so)\n",
      "frame #13: <unknown function> + 0x4bae3e (0x7f5f89969e3e in /home/dkarkada/miniconda3/envs/optimumtests/lib/python3.8/site-packages/torch/lib/libtorch_python.so)\n",
      "frame #14: <unknown function> + 0x13c00e (0x55ae2a68000e in /home/dkarkada/miniconda3/envs/optimumtests/bin/python)\n",
      "frame #15: _PyObject_MakeTpCall + 0x3bf (0x55ae2a67513f in /home/dkarkada/miniconda3/envs/optimumtests/bin/python)\n",
      "frame #16: _PyEval_EvalFrameDefault + 0x5434 (0x55ae2a71fdd4 in /home/dkarkada/miniconda3/envs/optimumtests/bin/python)\n",
      "frame #17: _PyEval_EvalCodeWithName + 0x260 (0x55ae2a710600 in /home/dkarkada/miniconda3/envs/optimumtests/bin/python)\n",
      "frame #18: _PyFunction_Vectorcall + 0x594 (0x55ae2a711bc4 in /home/dkarkada/miniconda3/envs/optimumtests/bin/python)\n",
      "frame #19: _PyEval_EvalFrameDefault + 0x1510 (0x55ae2a71beb0 in /home/dkarkada/miniconda3/envs/optimumtests/bin/python)\n",
      "frame #20: _PyEval_EvalCodeWithName + 0x260 (0x55ae2a710600 in /home/dkarkada/miniconda3/envs/optimumtests/bin/python)\n",
      "frame #21: _PyFunction_Vectorcall + 0x594 (0x55ae2a711bc4 in /home/dkarkada/miniconda3/envs/optimumtests/bin/python)\n",
      "frame #22: _PyEval_EvalFrameDefault + 0x1510 (0x55ae2a71beb0 in /home/dkarkada/miniconda3/envs/optimumtests/bin/python)\n",
      "frame #23: _PyEval_EvalCodeWithName + 0x260 (0x55ae2a710600 in /home/dkarkada/miniconda3/envs/optimumtests/bin/python)\n",
      "frame #24: _PyFunction_Vectorcall + 0x534 (0x55ae2a711b64 in /home/dkarkada/miniconda3/envs/optimumtests/bin/python)\n",
      "frame #25: _PyEval_EvalFrameDefault + 0x4f83 (0x55ae2a71f923 in /home/dkarkada/miniconda3/envs/optimumtests/bin/python)\n",
      "frame #26: _PyEval_EvalCodeWithName + 0x260 (0x55ae2a710600 in /home/dkarkada/miniconda3/envs/optimumtests/bin/python)\n",
      "frame #27: _PyFunction_Vectorcall + 0x594 (0x55ae2a711bc4 in /home/dkarkada/miniconda3/envs/optimumtests/bin/python)\n",
      "frame #28: _PyEval_EvalFrameDefault + 0x1510 (0x55ae2a71beb0 in /home/dkarkada/miniconda3/envs/optimumtests/bin/python)\n",
      "frame #29: _PyEval_EvalCodeWithName + 0x260 (0x55ae2a710600 in /home/dkarkada/miniconda3/envs/optimumtests/bin/python)\n",
      "frame #30: _PyFunction_Vectorcall + 0x534 (0x55ae2a711b64 in /home/dkarkada/miniconda3/envs/optimumtests/bin/python)\n",
      "frame #31: _PyEval_EvalFrameDefault + 0x71b (0x55ae2a71b0bb in /home/dkarkada/miniconda3/envs/optimumtests/bin/python)\n",
      "frame #32: _PyEval_EvalCodeWithName + 0xd5f (0x55ae2a7110ff in /home/dkarkada/miniconda3/envs/optimumtests/bin/python)\n",
      "frame #33: _PyFunction_Vectorcall + 0x594 (0x55ae2a711bc4 in /home/dkarkada/miniconda3/envs/optimumtests/bin/python)\n",
      "frame #34: <unknown function> + 0x166b2e (0x55ae2a6aab2e in /home/dkarkada/miniconda3/envs/optimumtests/bin/python)\n",
      "frame #35: _PyEval_EvalFrameDefault + 0x1510 (0x55ae2a71beb0 in /home/dkarkada/miniconda3/envs/optimumtests/bin/python)\n",
      "frame #36: _PyEval_EvalCodeWithName + 0x260 (0x55ae2a710600 in /home/dkarkada/miniconda3/envs/optimumtests/bin/python)\n",
      "frame #37: <unknown function> + 0x1f98df (0x55ae2a73d8df in /home/dkarkada/miniconda3/envs/optimumtests/bin/python)\n",
      "frame #38: <unknown function> + 0x13b23d (0x55ae2a67f23d in /home/dkarkada/miniconda3/envs/optimumtests/bin/python)\n",
      "frame #39: _PyEval_EvalFrameDefault + 0x71b (0x55ae2a71b0bb in /home/dkarkada/miniconda3/envs/optimumtests/bin/python)\n",
      "frame #40: <unknown function> + 0x1955c2 (0x55ae2a6d95c2 in /home/dkarkada/miniconda3/envs/optimumtests/bin/python)\n",
      "frame #41: _PyEval_EvalFrameDefault + 0x1b5b (0x55ae2a71c4fb in /home/dkarkada/miniconda3/envs/optimumtests/bin/python)\n",
      "frame #42: <unknown function> + 0x1955c2 (0x55ae2a6d95c2 in /home/dkarkada/miniconda3/envs/optimumtests/bin/python)\n",
      "frame #43: _PyEval_EvalFrameDefault + 0x1b5b (0x55ae2a71c4fb in /home/dkarkada/miniconda3/envs/optimumtests/bin/python)\n",
      "frame #44: <unknown function> + 0x1955c2 (0x55ae2a6d95c2 in /home/dkarkada/miniconda3/envs/optimumtests/bin/python)\n",
      "frame #45: <unknown function> + 0x17cd15 (0x55ae2a6c0d15 in /home/dkarkada/miniconda3/envs/optimumtests/bin/python)\n",
      "frame #46: _PyEval_EvalFrameDefault + 0x4c0 (0x55ae2a71ae60 in /home/dkarkada/miniconda3/envs/optimumtests/bin/python)\n",
      "frame #47: _PyFunction_Vectorcall + 0x1b7 (0x55ae2a7117e7 in /home/dkarkada/miniconda3/envs/optimumtests/bin/python)\n",
      "frame #48: _PyEval_EvalFrameDefault + 0x71b (0x55ae2a71b0bb in /home/dkarkada/miniconda3/envs/optimumtests/bin/python)\n",
      "frame #49: _PyFunction_Vectorcall + 0x1b7 (0x55ae2a7117e7 in /home/dkarkada/miniconda3/envs/optimumtests/bin/python)\n",
      "frame #50: _PyEval_EvalFrameDefault + 0x4c0 (0x55ae2a71ae60 in /home/dkarkada/miniconda3/envs/optimumtests/bin/python)\n",
      "frame #51: _PyEval_EvalCodeWithName + 0x260 (0x55ae2a710600 in /home/dkarkada/miniconda3/envs/optimumtests/bin/python)\n",
      "frame #52: _PyFunction_Vectorcall + 0x594 (0x55ae2a711bc4 in /home/dkarkada/miniconda3/envs/optimumtests/bin/python)\n",
      "frame #53: <unknown function> + 0x166bf8 (0x55ae2a6aabf8 in /home/dkarkada/miniconda3/envs/optimumtests/bin/python)\n",
      "frame #54: PyObject_Call + 0x319 (0x55ae2a67b4a9 in /home/dkarkada/miniconda3/envs/optimumtests/bin/python)\n",
      "frame #55: _PyEval_EvalFrameDefault + 0x1f07 (0x55ae2a71c8a7 in /home/dkarkada/miniconda3/envs/optimumtests/bin/python)\n",
      "frame #56: _PyEval_EvalCodeWithName + 0x888 (0x55ae2a710c28 in /home/dkarkada/miniconda3/envs/optimumtests/bin/python)\n",
      "frame #57: _PyFunction_Vectorcall + 0x594 (0x55ae2a711bc4 in /home/dkarkada/miniconda3/envs/optimumtests/bin/python)\n",
      "frame #58: <unknown function> + 0x166b2e (0x55ae2a6aab2e in /home/dkarkada/miniconda3/envs/optimumtests/bin/python)\n",
      "frame #59: _PyEval_EvalFrameDefault + 0x1510 (0x55ae2a71beb0 in /home/dkarkada/miniconda3/envs/optimumtests/bin/python)\n",
      "frame #60: <unknown function> + 0x1955c2 (0x55ae2a6d95c2 in /home/dkarkada/miniconda3/envs/optimumtests/bin/python)\n",
      "frame #61: _PyEval_EvalFrameDefault + 0x1b5b (0x55ae2a71c4fb in /home/dkarkada/miniconda3/envs/optimumtests/bin/python)\n",
      "frame #62: <unknown function> + 0x1955c2 (0x55ae2a6d95c2 in /home/dkarkada/miniconda3/envs/optimumtests/bin/python)\n",
      "frame #63: _PyEval_EvalFrameDefault + 0x1b5b (0x55ae2a71c4fb in /home/dkarkada/miniconda3/envs/optimumtests/bin/python)\n",
      " (function ComputeConstantFolding)\n"
     ]
    }
   ],
   "source": [
    "model_name = \"distilbert-base-uncased-finetuned-sst-2-english\"\n",
    "config = AutoConfig.from_pretrained(model_name)\n",
    "tokenizer = AutoTokenizer.from_pretrained(model_name)\n",
    "ov_model = OVAutoModelForSequenceClassification.from_pretrained(model_name, config=config, from_pt=True)\n",
    "ov_model.save_pretrained('saved_model')"
   ]
  },
  {
   "cell_type": "markdown",
   "metadata": {},
   "source": [
    "### Preprocess function for the dataset\n"
   ]
  },
  {
   "cell_type": "code",
   "execution_count": 12,
   "metadata": {},
   "outputs": [
    {
     "name": "stdout",
     "output_type": "stream",
     "text": [
      "<odict_iterator object at 0x7f5be0dc0900>\n",
      "<odict_iterator object at 0x7f5be0dc0900>\n"
     ]
    }
   ],
   "source": [
    "def preprocess_function(examples):\n",
    "    result =  tokenizer(examples['sentence'], padding=\"max_length\", max_length=128, truncation=True)\n",
    "    result[\"labels\"] = examples[\"label\"]\n",
    "    return result"
   ]
  },
  {
   "cell_type": "markdown",
   "metadata": {},
   "source": [
    "### Evaluating the model performance"
   ]
  },
  {
   "cell_type": "code",
   "execution_count": 39,
   "metadata": {},
   "outputs": [
    {
     "name": "stdout",
     "output_type": "stream",
     "text": [
      "<odict_iterator object at 0x7f5d91a61b80>\n",
      "<odict_iterator object at 0x7f5d91a61b80>\n"
     ]
    },
    {
     "name": "stderr",
     "output_type": "stream",
     "text": [
      "06/16/2022 00:13:20 - WARNING - datasets.load - Couldn't find a directory or a dataset named 'sst2' in this version. It was picked from the master branch on github instead.\n",
      "06/16/2022 00:13:20 - WARNING - datasets.builder - Using custom data configuration default\n",
      "06/16/2022 00:13:20 - WARNING - datasets.builder - Reusing dataset sst2 (/home/dkarkada/.cache/huggingface/datasets/sst2/default/2.0.0/9896208a8d85db057ac50c72282bcb8fe755accc671a57dd8059d4e130961ed5)\n",
      "100%|██████████| 3/3 [00:00<00:00, 434.57it/s]\n",
      "Downloading builder script: 4.21kB [00:00, 862kB/s]                    \n",
      "06/16/2022 00:13:20 - WARNING - datasets.arrow_dataset - Loading cached processed dataset at /home/dkarkada/.cache/huggingface/datasets/sst2/default/2.0.0/9896208a8d85db057ac50c72282bcb8fe755accc671a57dd8059d4e130961ed5/cache-e7c8b4634b8c30e9.arrow\n",
      "06/16/2022 00:13:21 - WARNING - datasets.arrow_dataset - Loading cached processed dataset at /home/dkarkada/.cache/huggingface/datasets/sst2/default/2.0.0/9896208a8d85db057ac50c72282bcb8fe755accc671a57dd8059d4e130961ed5/cache-75db2d1b4bea1449.arrow\n",
      "100%|██████████| 2/2 [00:00<00:00, 11.59ba/s]\n",
      "Looping over validation data: 100%|██████████| 872/872 [00:18<00:00, 47.82it/s]\n"
     ]
    },
    {
     "name": "stdout",
     "output_type": "stream",
     "text": [
      "Score for SST2 dataset with OV Optimum: {'accuracy': 0.9105504587155964}\n"
     ]
    }
   ],
   "source": [
    "dataset = load_dataset(\"sst2\")\n",
    "metric = load_metric('f1')\n",
    "\n",
    "dataset = dataset.map(preprocess_function, batched=True, remove_columns=dataset[\"train\"].column_names)\n",
    "val_dataloader = DataLoader(\n",
    "       dataset['validation'], shuffle=True, collate_fn=default_data_collator\n",
    "    )\n",
    "\n",
    "for idx, batch in enumerate(tqdm(val_dataloader, desc=\"Looping over validation data\")):\n",
    "    outputs = ov_model(input_ids=batch['input_ids'].numpy(), attention_mask=batch['attention_mask'].numpy())\n",
    "    preds = outputs[0].argmax()\n",
    "    references = batch['labels'].numpy()\n",
    "    metric.add_batch(predictions=[preds], references=[references])\n",
    "\n",
    "ov_score = metric.compute()\n",
    "print(f'Score for SST2 dataset with OV Optimum: {ov_score}')"
   ]
  },
  {
   "cell_type": "markdown",
   "metadata": {},
   "source": [
    "### Benchmark the converted model using the benchmark app\n",
    "The OpenVINO toolkit provides a benchmarking application to gauge the platform specific runtime performance that can be obtained under optimal configuration parameters for a given model. For more details refer to: https://docs.openvino.ai/latest/openvino_inference_engine_tools_benchmark_tool_README.html"
   ]
  },
  {
   "cell_type": "code",
   "execution_count": 38,
   "metadata": {},
   "outputs": [
    {
     "name": "stdout",
     "output_type": "stream",
     "text": [
      "Benchmark OpenVINO model using the benchmark app\n",
      "<odict_iterator object at 0x7f5b9bd4ddb0>\n",
      "<odict_iterator object at 0x7f5b9bd4ddb0>\n",
      "huggingface/tokenizers: The current process just got forked, after parallelism has already been used. Disabling parallelism to avoid deadlocks...\n",
      "To disable this warning, you can either:\n",
      "\t- Avoid using `tokenizers` before the fork if possible\n",
      "\t- Explicitly set the environment variable TOKENIZERS_PARALLELISM=(true | false)\n",
      "[Step 1/11] Parsing and validating input arguments\n",
      "[ WARNING ]  -nstreams default value is determined automatically for a device. Although the automatic selection usually provides a reasonable performance, but it still may be non-optimal for some cases, for more information look at README. \n",
      "[Step 2/11] Loading OpenVINO\n",
      "[ INFO ] OpenVINO:\n",
      "         API version............. 2022.1.0-7019-cdb9bec7210-releases/2022/1\n",
      "[ INFO ] Device info\n",
      "         CPU\n",
      "         openvino_intel_cpu_plugin version 2022.1\n",
      "         Build................... 2022.1.0-7019-cdb9bec7210-releases/2022/1\n",
      "\n",
      "[Step 3/11] Setting device configuration\n",
      "[Step 4/11] Reading network files\n",
      "[ INFO ] Read model took 248.27 ms\n",
      "[Step 5/11] Resizing network to match image sizes and given batch\n",
      "[ INFO ] Network batch size: 1\n",
      "[Step 6/11] Configuring input of the model\n",
      "[ INFO ] Model input 'input_ids' precision i32, dimensions ([...]): 1 128\n",
      "[ INFO ] Model input 'attention_mask' precision i32, dimensions ([...]): 1 128\n",
      "[ INFO ] Model output 'output' precision f32, dimensions ([...]): 1 2\n",
      "[Step 7/11] Loading the model to the device\n",
      "[ INFO ] Compile model took 1452.51 ms\n",
      "[Step 8/11] Querying optimal runtime parameters\n",
      "[ INFO ] DEVICE: CPU\n",
      "[ INFO ]   AVAILABLE_DEVICES  , ['']\n",
      "[ INFO ]   RANGE_FOR_ASYNC_INFER_REQUESTS  , (1, 1, 1)\n",
      "[ INFO ]   RANGE_FOR_STREAMS  , (1, 96)\n",
      "[ INFO ]   FULL_DEVICE_NAME  , Intel(R) Xeon(R) Gold 6252N CPU @ 2.30GHz\n",
      "[ INFO ]   OPTIMIZATION_CAPABILITIES  , ['WINOGRAD', 'FP32', 'FP16', 'INT8', 'BIN', 'EXPORT_IMPORT']\n",
      "[ INFO ]   CACHE_DIR  , \n",
      "[ INFO ]   NUM_STREAMS  , 1\n",
      "[ INFO ]   INFERENCE_NUM_THREADS  , 0\n",
      "[ INFO ]   PERF_COUNT  , False\n",
      "[ INFO ]   PERFORMANCE_HINT_NUM_REQUESTS  , 0\n",
      "[Step 9/11] Creating infer requests and preparing input data\n",
      "[ INFO ] Create 2 infer requests took 3.79 ms\n",
      "[ WARNING ] No input files were given for input 'input_ids'!. This input will be filled with random values!\n",
      "[ WARNING ] No input files were given for input 'attention_mask'!. This input will be filled with random values!\n",
      "[ INFO ] Fill input 'input_ids' with random values \n",
      "[ INFO ] Fill input 'attention_mask' with random values \n",
      "[Step 10/11] Measuring performance (Start inference asynchronously, 2 inference requests, inference only: True, limits: 10000 ms duration)\n",
      "[ INFO ] Benchmarking in inference only mode (inputs filling are not included in measurement loop).\n",
      "[ INFO ] First inference took 15.67 ms\n",
      "[Step 11/11] Dumping statistics report\n",
      "Count:          1404 iterations\n",
      "Duration:       10015.75 ms\n",
      "Latency:\n",
      "    Median:     12.75 ms\n",
      "    AVG:        14.18 ms\n",
      "    MIN:        9.67 ms\n",
      "    MAX:        47.09 ms\n",
      "Throughput: 140.18 FPS\n"
     ]
    }
   ],
   "source": [
    "base_model_name = 'saved_model/ov_model.xml'\n",
    "print('Benchmark OpenVINO model using the benchmark app')\n",
    "! benchmark_app -m \"$base_model_name\" -d CPU -api async -t 10 -hint latency"
   ]
  }
 ],
 "metadata": {
  "interpreter": {
   "hash": "bb4d065df37eb8837d29a71c37c0df1b5b5cffbae7790c0bbef4d6b86d2d3c47"
  },
  "kernelspec": {
   "display_name": "Python 3.8.13 ('optimumtests')",
   "language": "python",
   "name": "python3"
  },
  "language_info": {
   "codemirror_mode": {
    "name": "ipython",
    "version": 3
   },
   "file_extension": ".py",
   "mimetype": "text/x-python",
   "name": "python",
   "nbconvert_exporter": "python",
   "pygments_lexer": "ipython3",
   "version": "3.8.13"
  },
  "orig_nbformat": 4
 },
 "nbformat": 4,
 "nbformat_minor": 2
}
